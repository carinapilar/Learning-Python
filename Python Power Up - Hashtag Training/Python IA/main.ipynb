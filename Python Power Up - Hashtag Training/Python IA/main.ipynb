{
 "cells": [
  {
   "cell_type": "markdown",
   "metadata": {},
   "source": [
    "# Python IA: Artificial Intelligence and Predictions\n",
    "\n",
    "### Case: Customer Credit Score\n",
    "\n",
    "You have been hired by a bank to determine the credit scores of its customers. Your task is to analyze all the bank's customers and, based on this analysis, create a model capable of reading customer information and automatically assigning a credit score: Poor, Standard, Good.\n",
    "\n",
    "### Step-by-Step\n",
    "- Step 0: Understand the company and its challenge\n",
    "- Step 1: Import the database\n",
    "- Step 2: Prepare the database for AI\n",
    "- Step 3: Train the AI and create the model to define credit scores\n",
    "- Step 4: Choose the best AI model\n",
    "- Step 5: Use the best model to predict credit scores"
   ]
  },
  {
   "cell_type": "code",
   "execution_count": null,
   "metadata": {},
   "outputs": [],
   "source": [
    "# Installing AI library\n",
    "# !pip install scikit-learn"
   ]
  },
  {
   "cell_type": "code",
   "execution_count": 1,
   "metadata": {},
   "outputs": [],
   "source": [
    "# Step 1: Import the database\n",
    "import pandas as pd\n",
    "\n",
    "url='https://drive.google.com/uc?id=1m_cqkKLUURaF65yswspFZMMN7gNKxbh-'\n",
    "df_customers = pd.read_csv(url)\n",
    "# display(df_customers.info())"
   ]
  },
  {
   "cell_type": "code",
   "execution_count": 2,
   "metadata": {},
   "outputs": [],
   "source": [
    "# Step 2: Prepare the database for AI\n",
    "\n",
    "# Using LabelEncoder to make text columns into numbers, changing the following columns:\n",
    "# profissao\n",
    "# mix_credito\n",
    "# comportamento_pagamento\n",
    "\n",
    "# Importing just LabelEncoder\n",
    "from sklearn.preprocessing import LabelEncoder\n",
    "\n",
    "# Using LabelEncoder to transform text into number\n",
    "encoder_profession = LabelEncoder()\n",
    "df_customers[\"profissao\"] = encoder_profession.fit_transform(df_customers[\"profissao\"])\n",
    "\n",
    "encoder_credit = LabelEncoder()\n",
    "df_customers[\"mix_credito\"] = encoder_credit.fit_transform(df_customers[\"mix_credito\"])\n",
    "\n",
    "encoder_payment = LabelEncoder()\n",
    "df_customers[\"comportamento_pagamento\"] = encoder_payment.fit_transform(df_customers[\"comportamento_pagamento\"])\n",
    "# display(df_customers)"
   ]
  },
  {
   "cell_type": "code",
   "execution_count": null,
   "metadata": {},
   "outputs": [],
   "source": [
    "# Step 3: Train the AI and create the model to define credit scores\n",
    "# Column Y: the one we want to predict\n",
    "y = df_customers[\"score_credito\"]\n",
    "# Columns X: the ones AI will use to make the prediction\n",
    "x = df_customers.drop(columns=[\"score_credito\",\"id_cliente\"])\n",
    "\n",
    "# Spliting the data into training and testing\n",
    "from sklearn.model_selection import train_test_split\n",
    "\n",
    "x_train, x_test, y_train, y_test = train_test_split(x, y)\n",
    "\n",
    "# Steps to work with AI\n",
    "# Choosing to work with learning models called \"Decision Tree\", and \"Nearest Neighbors\"\n",
    "# Importing the AI\n",
    "from sklearn.ensemble import RandomForestClassifier # Decision Tree model\n",
    "from sklearn.neighbors import KNeighborsClassifier # Nearest Neighbors model, \"KNN\"\n",
    "\n",
    "# Creating the AI\n",
    "model_decisiontree = RandomForestClassifier()\n",
    "model_knn = KNeighborsClassifier()\n",
    "\n",
    "# Training the AI\n",
    "model_decisiontree.fit(x_train, y_train)\n",
    "model_knn.fit(x_train, y_train)"
   ]
  },
  {
   "cell_type": "code",
   "execution_count": 5,
   "metadata": {},
   "outputs": [
    {
     "data": {
      "text/plain": [
       "'Decision Tree Precision: 83%'"
      ]
     },
     "metadata": {},
     "output_type": "display_data"
    },
    {
     "data": {
      "text/plain": [
       "'Nearest Neighbors Precision: 74%'"
      ]
     },
     "metadata": {},
     "output_type": "display_data"
    }
   ],
   "source": [
    "# Step 4: Choose the best AI model\n",
    "# Comparing the prediction of the two models, based on the testing data\n",
    "prediction_decisiontree = model_decisiontree.predict(x_test)\n",
    "prediction_knn = model_knn.predict(x_test)\n",
    "\n",
    "# Calculating the prediction accuracy\n",
    "from sklearn.metrics import accuracy_score\n",
    "\n",
    "display(\"Decision Tree Precision: \" + str(format(accuracy_score(y_test, prediction_decisiontree), \".0%\")))\n",
    "display(\"Nearest Neighbors Precision: \" + str(format(accuracy_score(y_test, prediction_knn), \".0%\")))"
   ]
  },
  {
   "cell_type": "markdown",
   "metadata": {},
   "source": [
    "**Based on the prediction numbers above, I'll use the Decision Tree model, which gave us an accuracy of 83%**"
   ]
  },
  {
   "cell_type": "code",
   "execution_count": 6,
   "metadata": {},
   "outputs": [
    {
     "data": {
      "text/html": [
       "<div>\n",
       "<style scoped>\n",
       "    .dataframe tbody tr th:only-of-type {\n",
       "        vertical-align: middle;\n",
       "    }\n",
       "\n",
       "    .dataframe tbody tr th {\n",
       "        vertical-align: top;\n",
       "    }\n",
       "\n",
       "    .dataframe thead th {\n",
       "        text-align: right;\n",
       "    }\n",
       "</style>\n",
       "<table border=\"1\" class=\"dataframe\">\n",
       "  <thead>\n",
       "    <tr style=\"text-align: right;\">\n",
       "      <th></th>\n",
       "      <th>mes</th>\n",
       "      <th>idade</th>\n",
       "      <th>profissao</th>\n",
       "      <th>salario_anual</th>\n",
       "      <th>num_contas</th>\n",
       "      <th>num_cartoes</th>\n",
       "      <th>juros_emprestimo</th>\n",
       "      <th>num_emprestimos</th>\n",
       "      <th>dias_atraso</th>\n",
       "      <th>num_pagamentos_atrasados</th>\n",
       "      <th>...</th>\n",
       "      <th>taxa_uso_credito</th>\n",
       "      <th>idade_historico_credito</th>\n",
       "      <th>investimento_mensal</th>\n",
       "      <th>comportamento_pagamento</th>\n",
       "      <th>saldo_final_mes</th>\n",
       "      <th>emprestimo_carro</th>\n",
       "      <th>emprestimo_casa</th>\n",
       "      <th>emprestimo_pessoal</th>\n",
       "      <th>emprestimo_credito</th>\n",
       "      <th>emprestimo_estudantil</th>\n",
       "    </tr>\n",
       "  </thead>\n",
       "  <tbody>\n",
       "    <tr>\n",
       "      <th>0</th>\n",
       "      <td>1</td>\n",
       "      <td>31.0</td>\n",
       "      <td>empresario</td>\n",
       "      <td>19300.340</td>\n",
       "      <td>6.0</td>\n",
       "      <td>7.0</td>\n",
       "      <td>17.0</td>\n",
       "      <td>5.0</td>\n",
       "      <td>52.0</td>\n",
       "      <td>19.0</td>\n",
       "      <td>...</td>\n",
       "      <td>29.934186</td>\n",
       "      <td>218.0</td>\n",
       "      <td>44.50951</td>\n",
       "      <td>baixo_gasto_pagamento_baixo</td>\n",
       "      <td>312.487689</td>\n",
       "      <td>1</td>\n",
       "      <td>1</td>\n",
       "      <td>0</td>\n",
       "      <td>0</td>\n",
       "      <td>0</td>\n",
       "    </tr>\n",
       "    <tr>\n",
       "      <th>1</th>\n",
       "      <td>4</td>\n",
       "      <td>32.0</td>\n",
       "      <td>advogado</td>\n",
       "      <td>12600.445</td>\n",
       "      <td>5.0</td>\n",
       "      <td>5.0</td>\n",
       "      <td>10.0</td>\n",
       "      <td>3.0</td>\n",
       "      <td>25.0</td>\n",
       "      <td>18.0</td>\n",
       "      <td>...</td>\n",
       "      <td>28.819407</td>\n",
       "      <td>12.0</td>\n",
       "      <td>0.00000</td>\n",
       "      <td>baixo_gasto_pagamento_medio</td>\n",
       "      <td>300.994163</td>\n",
       "      <td>0</td>\n",
       "      <td>0</td>\n",
       "      <td>0</td>\n",
       "      <td>0</td>\n",
       "      <td>1</td>\n",
       "    </tr>\n",
       "    <tr>\n",
       "      <th>2</th>\n",
       "      <td>2</td>\n",
       "      <td>48.0</td>\n",
       "      <td>empresario</td>\n",
       "      <td>20787.690</td>\n",
       "      <td>8.0</td>\n",
       "      <td>6.0</td>\n",
       "      <td>14.0</td>\n",
       "      <td>7.0</td>\n",
       "      <td>24.0</td>\n",
       "      <td>14.0</td>\n",
       "      <td>...</td>\n",
       "      <td>34.235853</td>\n",
       "      <td>215.0</td>\n",
       "      <td>0.00000</td>\n",
       "      <td>baixo_gasto_pagamento_alto</td>\n",
       "      <td>345.081577</td>\n",
       "      <td>0</td>\n",
       "      <td>1</td>\n",
       "      <td>0</td>\n",
       "      <td>1</td>\n",
       "      <td>0</td>\n",
       "    </tr>\n",
       "  </tbody>\n",
       "</table>\n",
       "<p>3 rows × 23 columns</p>\n",
       "</div>"
      ],
      "text/plain": [
       "   mes  idade   profissao  salario_anual  num_contas  num_cartoes  \\\n",
       "0    1   31.0  empresario      19300.340         6.0          7.0   \n",
       "1    4   32.0    advogado      12600.445         5.0          5.0   \n",
       "2    2   48.0  empresario      20787.690         8.0          6.0   \n",
       "\n",
       "   juros_emprestimo  num_emprestimos  dias_atraso  num_pagamentos_atrasados  \\\n",
       "0              17.0              5.0         52.0                      19.0   \n",
       "1              10.0              3.0         25.0                      18.0   \n",
       "2              14.0              7.0         24.0                      14.0   \n",
       "\n",
       "   ...  taxa_uso_credito idade_historico_credito  investimento_mensal  \\\n",
       "0  ...         29.934186                   218.0             44.50951   \n",
       "1  ...         28.819407                    12.0              0.00000   \n",
       "2  ...         34.235853                   215.0              0.00000   \n",
       "\n",
       "       comportamento_pagamento  saldo_final_mes  emprestimo_carro  \\\n",
       "0  baixo_gasto_pagamento_baixo       312.487689                 1   \n",
       "1  baixo_gasto_pagamento_medio       300.994163                 0   \n",
       "2   baixo_gasto_pagamento_alto       345.081577                 0   \n",
       "\n",
       "  emprestimo_casa  emprestimo_pessoal  emprestimo_credito  \\\n",
       "0               1                   0                   0   \n",
       "1               0                   0                   0   \n",
       "2               1                   0                   1   \n",
       "\n",
       "   emprestimo_estudantil  \n",
       "0                      0  \n",
       "1                      1  \n",
       "2                      0  \n",
       "\n",
       "[3 rows x 23 columns]"
      ]
     },
     "metadata": {},
     "output_type": "display_data"
    },
    {
     "data": {
      "text/plain": [
       "array(['Poor', 'Poor', 'Standard'], dtype=object)"
      ]
     },
     "metadata": {},
     "output_type": "display_data"
    }
   ],
   "source": [
    "# Step 5: Use the best model to predict credit scores\n",
    "# Importing new customers to run through the AI \n",
    "url='https://drive.google.com/uc?id=10Q0eut7cku_5s06uMJJNmgKefdR_DX1i'\n",
    "df_new_customers = pd.read_csv(url)\n",
    "display(df_new_customers)\n",
    "\n",
    "# Once again, transforming the text columns into numbers with the LabelEncoder, like the AI learned\n",
    "# Since we already created the encoders, now we use \"transform\"\n",
    "df_new_customers[\"profissao\"] = encoder_profession.transform(df_new_customers[\"profissao\"])\n",
    "df_new_customers[\"mix_credito\"] = encoder_credit.transform(df_new_customers[\"mix_credito\"])\n",
    "df_new_customers[\"comportamento_pagamento\"] = encoder_payment.transform(df_new_customers[\"comportamento_pagamento\"])\n",
    "\n",
    "new_prediction = model_decisiontree.predict(df_new_customers)\n",
    "display(new_prediction)"
   ]
  },
  {
   "cell_type": "code",
   "execution_count": 18,
   "metadata": {},
   "outputs": [
    {
     "name": "stdout",
     "output_type": "stream",
     "text": [
      "                         Importance\n",
      "divida_total              11.569916\n",
      "juros_emprestimo           8.195898\n",
      "mix_credito                8.029487\n",
      "idade_historico_credito    7.478740\n",
      "dias_atraso                6.789873\n"
     ]
    }
   ],
   "source": [
    "# Which characteristics were more important to predict the credit score?\n",
    "columns = list(x_test.columns)\n",
    "importance = pd.DataFrame(index=columns, data=model_decisiontree.feature_importances_)\n",
    "importance.columns = ['Importance']\n",
    "importance = importance.nlargest(5, 'Importance')\n",
    "importance = importance * 100\n",
    "print(importance)"
   ]
  }
 ],
 "metadata": {
  "kernelspec": {
   "display_name": "Python 3",
   "language": "python",
   "name": "python3"
  },
  "language_info": {
   "codemirror_mode": {
    "name": "ipython",
    "version": 3
   },
   "file_extension": ".py",
   "mimetype": "text/x-python",
   "name": "python",
   "nbconvert_exporter": "python",
   "pygments_lexer": "ipython3",
   "version": "3.13.1"
  },
  "orig_nbformat": 4
 },
 "nbformat": 4,
 "nbformat_minor": 2
}
