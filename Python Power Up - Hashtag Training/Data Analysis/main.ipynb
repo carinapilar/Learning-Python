{
 "cells": [
  {
   "cell_type": "markdown",
   "metadata": {},
   "source": [
    "# Python Insights - Analysing Data with Python\n",
    "\n",
    "### Case - Customer Cancellations\n",
    "\n",
    "You were hired by a company with over 800,000 customers for a Data project. Recently, the company realized that most of its total customer base consists of inactive customers, meaning those who have already canceled the service.\n",
    "\n",
    "Needing to improve its results, the company wants to understand the main reasons behind these cancellations and identify the most effective actions to reduce this number.\n",
    "\n",
    "### Step by Step\n",
    "- Step 1: Import the database\n",
    "- Step 2: Visualize the database (understand and identify issues)\n",
    "- Step 3: Fix the issues in the database\n",
    "- Step 4: Initial analysis\n",
    "- Step 5: Analyze the reasons for customer cancellations"
   ]
  },
  {
   "cell_type": "code",
   "execution_count": 4,
   "metadata": {},
   "outputs": [],
   "source": [
    "# Installing libraries\n",
    "# !pip install pandas numpy openpyxl nbformat ipykernel plotly"
   ]
  },
  {
   "cell_type": "code",
   "execution_count": null,
   "metadata": {},
   "outputs": [],
   "source": [
    "# Step 1: Import the database\n",
    "import pandas as pd\n",
    "url='https://drive.google.com/uc?id=1sFnxOdcqnbC-hVYpRBdNA4Z26XWYCIes'\n",
    "df_customers = pd.read_csv(url)"
   ]
  },
  {
   "cell_type": "code",
   "execution_count": null,
   "metadata": {},
   "outputs": [],
   "source": [
    "# Step 2: Visualize the database (understand and identify issues)\n",
    "display(df_customers) # Showing the database\n",
    "\n",
    "# Removing columns that aren't important\n",
    "df_customers = df_customers.drop(columns=\"CustomerID\")\n",
    "\n",
    "display(df_customers) # Showing the database without the column"
   ]
  },
  {
   "cell_type": "code",
   "execution_count": null,
   "metadata": {},
   "outputs": [],
   "source": [
    "# Step 3: Fix the issues in the database\n",
    "# Identifying empty values\n",
    "display(df_customers.info())\n",
    "\n",
    "# Removing empty values\n",
    "df_customers = df_customers.dropna()\n",
    "display(df_customers.info())"
   ]
  },
  {
   "cell_type": "code",
   "execution_count": null,
   "metadata": {},
   "outputs": [],
   "source": [
    "# Step 4: Initial analysis - how many clients cancelled and the percentage\n",
    "display(df_customers[\"cancelou\"].value_counts())\n",
    "\n",
    "# Percentage\n",
    "display(df_customers[\"cancelou\"].value_counts(normalize=True))"
   ]
  },
  {
   "cell_type": "code",
   "execution_count": null,
   "metadata": {},
   "outputs": [],
   "source": [
    "# Step 5: Analyze the reasons for customer cancellations\n",
    "import plotly.express as px\n",
    "\n",
    "# Creating graphs for each column from the database\n",
    "for column in df_customers.columns:\n",
    "    # Creates the graph\n",
    "    graph = px.histogram(df_customers, x=column, color=\"cancelou\", text_auto=True)\n",
    "    # Shows the graph\n",
    "    graph.show()"
   ]
  },
  {
   "cell_type": "markdown",
   "metadata": {},
   "source": [
    "### Analysis Conclusions\n",
    "\n",
    "- All monthly contract customers cancel\n",
    "    - Offer discounts on annual and quarterly plans.\n",
    "- Customers who call the call center more than 4 times cancel\n",
    "    - Create a process to resolve customer issues within a maximum of 3 calls.\n",
    "- Customers who delayed payments by more than 20 days canceled\n",
    "    - Implement a policy to resolve payment delays within 10 days (finance team).\n",
    "\n",
    "**If we solve the issues above, how would the situation look?**"
   ]
  },
  {
   "cell_type": "code",
   "execution_count": null,
   "metadata": {},
   "outputs": [],
   "source": [
    "# duracao_contrato: \"contract duration\", test for different than monthly\n",
    "condition = df_customers[\"duracao_contrato\"] != \"Monthly\" # Filtering customers that aren't monthly\n",
    "df_customers = df_customers[condition]\n",
    "\n",
    "# ligacoes_callcenter: \"callcenter calls\", test for less than 4\n",
    "condition = df_customers[\"ligacoes_callcenter\"] <= 4 # Filtering customers that called less than 4 times\n",
    "df_customers = df_customers[condition]\n",
    "\n",
    "# dias_atraso: \"delayed payments\", test for less than 20 days\n",
    "condition = df_customers[\"dias_atraso\"] <= 20 # Filtering customers with payments delayed less than 20 days\n",
    "df_customers = df_customers[condition]\n",
    "\n",
    "display(df_customers[\"cancelou\"].value_counts())\n",
    "display(df_customers[\"cancelou\"].value_counts(normalize=True))"
   ]
  },
  {
   "cell_type": "markdown",
   "metadata": {},
   "source": [
    "**This analysis shows that if we fix all the issues, the cancellation rate could drop from 56% to 18%**\n"
   ]
  }
 ],
 "metadata": {
  "kernelspec": {
   "display_name": "Python 3",
   "language": "python",
   "name": "python3"
  },
  "language_info": {
   "codemirror_mode": {
    "name": "ipython",
    "version": 3
   },
   "file_extension": ".py",
   "mimetype": "text/x-python",
   "name": "python",
   "nbconvert_exporter": "python",
   "pygments_lexer": "ipython3",
   "version": "3.13.1"
  },
  "orig_nbformat": 4
 },
 "nbformat": 4,
 "nbformat_minor": 2
}
