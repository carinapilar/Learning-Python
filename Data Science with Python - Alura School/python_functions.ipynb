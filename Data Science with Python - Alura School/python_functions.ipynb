{
 "cells": [
  {
   "cell_type": "markdown",
   "metadata": {},
   "source": [
    "### 📝 Exercise 1\n",
    "\n",
    "Write a code that reads the list below:\n",
    "\n",
    "`my_list = [16, 14, 63, 65, 17, 99, 70, 11, 20, 48, 79, 32, 17, 89, 12, 25, 66]`\n",
    "\n",
    "And proceed with the following:\n",
    "- Reads the size of the list\n",
    "- Reads the largest and smallest values\n",
    "- Calculates the sum of the list's values\n",
    "\n",
    "At the end, displays a message saying:\n",
    "\n",
    "`\"The list has [size] numbers where the largest number is [largest] and the smallest number is [smallest]. The sum of its values is equal to [sum].\"`"
   ]
  },
  {
   "cell_type": "code",
   "execution_count": 4,
   "metadata": {},
   "outputs": [
    {
     "name": "stdout",
     "output_type": "stream",
     "text": [
      "The list has 17 numbers where the largest number is 99 and the smallest number is 11. The sum of its values is equal to 743.\n"
     ]
    }
   ],
   "source": [
    "my_list = [16, 14, 63, 65, 17, 99, 70, 11, 20, 48, 79, 32, 17, 89, 12, 25, 66]\n",
    "\n",
    "list_size = len(my_list)\n",
    "largest_number = max(my_list)\n",
    "smallest_number = min(my_list)\n",
    "list_sum = sum(my_list)\n",
    "\n",
    "print(f\"The list has {list_size} numbers where the largest number is {largest_number} and the smallest number is {smallest_number}. The sum of its values is equal to {list_sum}.\")"
   ]
  },
  {
   "cell_type": "markdown",
   "metadata": {},
   "source": [
    "### 📝 Exercise 2\n",
    "\n",
    "Write a function that generates the multiplication table of an integer from 1 to 10, according to the user's choice. For example, for the number 7, the table should be displayed in the following format:\n",
    "\n",
    "    Times table of 7:\n",
    "    7 x 0 = 0\n",
    "    7 x 1 = 7\n",
    "    [...]\n",
    "    7 x 10 = 70\n"
   ]
  },
  {
   "cell_type": "code",
   "execution_count": 63,
   "metadata": {},
   "outputs": [
    {
     "name": "stdout",
     "output_type": "stream",
     "text": [
      "Input: asd. Please, type an integer number, between 1 and 10.\n",
      "Input: 8.5. Please, type an integer number, between 1 and 10.\n",
      "Times table of 7:\n",
      "7 x 0 = 0\n",
      "7 x 1 = 7\n",
      "7 x 2 = 14\n",
      "7 x 3 = 21\n",
      "7 x 4 = 28\n",
      "7 x 5 = 35\n",
      "7 x 6 = 42\n",
      "7 x 7 = 49\n",
      "7 x 8 = 56\n",
      "7 x 9 = 63\n",
      "7 x 10 = 70\n"
     ]
    }
   ],
   "source": [
    "chosen_number = input('Type the number for the multiplication table: ')\n",
    "\n",
    "# Tests if input is an integer and between 1 and 10\n",
    "while not chosen_number.isdigit() or int(chosen_number) <= 0 or int(chosen_number) > 10:\n",
    "    print(f'Input: {chosen_number}. Please, type an integer number, between 1 and 10.')\n",
    "    chosen_number = input('Type the number for the multiplication table: ')\n",
    "\n",
    "def times_table(number: int):\n",
    "    print(f'Times table of {number}:')\n",
    "    for i in range(11):\n",
    "        print(f'{number} x {i} = {int(number) * i}')\n",
    "\n",
    "times_table(chosen_number)"
   ]
  },
  {
   "cell_type": "markdown",
   "metadata": {},
   "source": [
    "### 📝 Exercise 3\n",
    "\n",
    "Create a function that reads the list below and returns a new list with the multiples of 3:\n",
    "\n",
    "`[97, 80, 94, 88, 80, 1, 16, 53, 62, 32, 24, 99]`\n",
    "\n",
    "Use the `return` statement in the function and save the new list in the variable `mult_3`."
   ]
  },
  {
   "cell_type": "code",
   "execution_count": 66,
   "metadata": {},
   "outputs": [
    {
     "name": "stdout",
     "output_type": "stream",
     "text": [
      "[24, 99]\n"
     ]
    }
   ],
   "source": [
    "new_list = []\n",
    "\n",
    "def multiples_of_3(original_list: list) -> list:\n",
    "    for i in range(len(original_list)):\n",
    "        if original_list[i] % 3 == 0:\n",
    "            new_list.append(original_list[i])\n",
    "\n",
    "    return new_list\n",
    "\n",
    "mult_3 = multiples_of_3([97, 80, 94, 88, 80, 1, 16, 53, 62, 32, 24, 99])\n",
    "print(mult_3)"
   ]
  },
  {
   "cell_type": "markdown",
   "metadata": {},
   "source": [
    "### 📝 Exercise 4\n",
    "\n",
    "Create a list of the squares of the numbers from the following list: `[1, 2, 3, 4, 5, 6, 7, 8, 9, 10]`. Remember to use the `lambda` and `map()` functions to calculate the square of each element in the list."
   ]
  },
  {
   "cell_type": "code",
   "execution_count": 69,
   "metadata": {},
   "outputs": [
    {
     "name": "stdout",
     "output_type": "stream",
     "text": [
      "[1, 4, 9, 16, 25, 36, 49, 64, 81, 100]\n"
     ]
    }
   ],
   "source": [
    "def squared_list(original_list: list) -> list:\n",
    "    new_list = list(map(lambda x: pow(x, 2), original_list))\n",
    "    return new_list\n",
    "\n",
    "list_result = squared_list([1, 2, 3, 4, 5, 6, 7, 8, 9, 10])\n",
    "print(list_result)"
   ]
  },
  {
   "cell_type": "markdown",
   "metadata": {},
   "source": [
    "### 📝 Exercise 5\n",
    "\n",
    "You have been hired as a data scientist for a skateboarding association. To analyze the scores received from skateboarders in some competitions throughout the year, you need to create a code that calculates the score of the athletes. To do this, your code should receive 5 scores entered by the judges.\n",
    "\n",
    "To calculate the score of a skateboarder, you need to eliminate the highest and the lowest score among the 5 scores and calculate the average of the 3 remaining scores. Return the average presenting the text:\n",
    "\n",
    "`Score of the trick: [average]`"
   ]
  },
  {
   "cell_type": "code",
   "execution_count": 75,
   "metadata": {},
   "outputs": [
    {
     "name": "stdout",
     "output_type": "stream",
     "text": [
      "Score of the trick: 7.67\n"
     ]
    }
   ],
   "source": [
    "athlete_scores = []\n",
    "for i in range(1, 6):\n",
    "    judge_score = input('Please, type the score: ')\n",
    "    athlete_scores.append(int(judge_score))\n",
    "\n",
    "def average_score(score_list: list) -> float:\n",
    "    score_list.remove(max(score_list))\n",
    "    score_list.remove(min(score_list))\n",
    "    return sum(score_list) / len(score_list)\n",
    "\n",
    "print(f'Score of the trick: {average_score(athlete_scores):.2f}')"
   ]
  },
  {
   "cell_type": "markdown",
   "metadata": {},
   "source": [
    "### 📝 Exercise 6\n",
    "\n",
    "To meet the demand of an educational institution for analyzing the performance of its students, you need to create a function that receives a list of 4 grades and returns:\n",
    "\n",
    "- highest grade\n",
    "- lowest grade\n",
    "- average\n",
    "- situation (Approved or Not Approved)\n",
    "\n",
    "To test the behavior of the function, the data can be displayed in a text:\n",
    "\n",
    "`The student achieved an average of [average], with their highest grade of [highest] points and their lowest grade of [lowest] points, and was [situation].`"
   ]
  },
  {
   "cell_type": "code",
   "execution_count": 81,
   "metadata": {},
   "outputs": [
    {
     "name": "stdout",
     "output_type": "stream",
     "text": [
      "The student achieved an average of 7.50, with their highest grade of 9.00 points and their lowest grade of 5.50 points, and was Approved.\n"
     ]
    }
   ],
   "source": [
    "student_grades = []\n",
    "for i in range(1, 5):\n",
    "    given_grade = input('Please, type the grade: ')\n",
    "    student_grades.append(float(given_grade))\n",
    "\n",
    "def analyse_grades(grade_list: list):\n",
    "    highest_grade = max(grade_list)\n",
    "    lowest_grade = min(grade_list)\n",
    "    grade_average = sum(grade_list) / len(grade_list)\n",
    "\n",
    "    if grade_average >= 6:\n",
    "        period_situation = 'Approved'\n",
    "    else:\n",
    "        period_situation = 'Not Approved'\n",
    "\n",
    "    return highest_grade, lowest_grade, grade_average, period_situation\n",
    "\n",
    "highest_grade, lowest_grade, grade_average, period_situation = analyse_grades(student_grades)\n",
    "\n",
    "print(f'The student achieved an average of {grade_average:.2f}, with their highest grade of {highest_grade:.2f} points and their lowest grade of {lowest_grade:.2f} points, and was {period_situation}.')"
   ]
  },
  {
   "cell_type": "markdown",
   "metadata": {},
   "source": [
    "### 📝 Exercise 7\n",
    "\n",
    "You received a request to process 2 lists with the first and last names of each student, concatenating them to present their full names in the format First Last. The lists are:\n",
    "\n",
    "    nomes = [\"joão\", \"MaRia\", \"JOSÉ\"]\n",
    "    sobrenomes = [\"SILVA\", \"souza\", \"Tavares\"]\n",
    "\n",
    "The text displayed at the end should look something like:\n",
    "\n",
    "`Full name: Ana Silva`"
   ]
  },
  {
   "cell_type": "code",
   "execution_count": 87,
   "metadata": {},
   "outputs": [
    {
     "name": "stdout",
     "output_type": "stream",
     "text": [
      "Full name: João Silva\n",
      "Full name: Maria Souza\n",
      "Full name: José Tavares\n"
     ]
    }
   ],
   "source": [
    "names = [\"joão\", \"MaRia\", \"JOSÉ\"]\n",
    "last_names = [\"SILVA\", \"souza\", \"Tavares\"]\n",
    "\n",
    "full_name = map(lambda name, last_name: f'{name.title()} {last_name.title()}', names, last_names)\n",
    "\n",
    "for i in full_name:\n",
    "    print(f'Full name: {i}')"
   ]
  },
  {
   "cell_type": "markdown",
   "metadata": {},
   "source": [
    "### 📝 Exercise 8\n",
    "\n",
    "As a data scientist on a football team, you need to implement new ways to collect data on the performance of players and the team as a whole. Your first task is to create a way to calculate the team's score in the national championship based on the goals scored and conceded in each game.\n",
    "\n",
    "Write a function called `calculate_points` that receives two lists of integers as parameters, representing the goals scored and conceded by the team in each match of the championship. The function should return the team's score and the efficiency as a percentage, considering that a victory is worth 3 points, a draw is worth 1 point, and a loss is worth 0 points.\n",
    "\n",
    "> Note: If the number of goals scored in a match is higher than the goals conceded, the team won. If it is equal, the team drew, and if it is lower, the team lost. To calculate the efficiency, you need to compute the ratio between the team’s points and the maximum points they could have earned.\n",
    "\n",
    "For testing, use the following lists of goals scored and conceded:\n",
    "\n",
    "    scored_goals = [2, 1, 3, 1, 0]\n",
    "    conceded_goals = [1, 2, 2, 1, 3]\n",
    "\n",
    "The displayed text would likely be:\n",
    "\n",
    "`The team's score was [points], and their efficiency was [efficiency]%.`"
   ]
  },
  {
   "cell_type": "code",
   "execution_count": 91,
   "metadata": {},
   "outputs": [
    {
     "name": "stdout",
     "output_type": "stream",
     "text": [
      "The team's score was 7, and their efficiency was 46.67%\n"
     ]
    }
   ],
   "source": [
    "scored_goals = [2, 1, 3, 1, 0]\n",
    "conceded_goals = [1, 2, 2, 1, 3]\n",
    "\n",
    "def calculate_points(goals_scored: list, goals_conceded: list):\n",
    "    total_points = 0\n",
    "    for i in range(len(goals_scored)):\n",
    "        if goals_scored[i] > goals_conceded[i]:\n",
    "            total_points += 3\n",
    "        elif goals_scored[i] == goals_conceded[i]:\n",
    "            total_points += 1\n",
    "\n",
    "    team_efficiency = (total_points / (len(goals_scored) * 3)) * 100\n",
    "    return total_points, team_efficiency\n",
    "    \n",
    "total_points, team_efficiency = calculate_points(scored_goals, conceded_goals)\n",
    "\n",
    "print(f'The team\\'s score was {total_points}, and their efficiency was {team_efficiency:.2f}%')"
   ]
  },
  {
   "cell_type": "markdown",
   "metadata": {},
   "source": [
    "### 📝 Exercise 9\n",
    "\n",
    "You received the challenge of creating a program that calculates the expenses of a trip to one of four cities departing from Recife, namely: Salvador, Fortaleza, Natal, and Aracaju.\n",
    "\n",
    "The hotel daily rate is 150 Reais in all of them, and the car's fuel consumption is 14 km/l, with the cost of gasoline being 5 Reais per liter. The expenses for sightseeing and meals in each city per day are [200, 400, 250, 300], respectively.\n",
    "\n",
    "Knowing that the distances between Recife and each city are approximately [850, 800, 300, 550] km, create three functions in which: the 1st function calculates the hotel expenses (`hotel_expenses`), the 2nd calculates the fuel expenses (`gas_expenses`), and the 3rd calculates the sightseeing and meal expenses (`sightseeing_expenses`).\n",
    "\n",
    "To test, simulate a 3-day trip to Salvador departing from Recife. Consider the round trip by car, and show the following message:\n",
    "\n",
    "`Based on the defined expenses, a [days]-day trip to [city] departing from Recife would cost [expenses] Reais.`"
   ]
  },
  {
   "cell_type": "code",
   "execution_count": null,
   "metadata": {},
   "outputs": [
    {
     "name": "stdout",
     "output_type": "stream",
     "text": [
      "Based on the defined expenses, a 3-day trip to Salvador departing from Recife would cost 1657.14 Reais.\n"
     ]
    }
   ],
   "source": [
    "# defining variables\n",
    "hotel_rate = 150\n",
    "fuel_rate = 14\n",
    "fuel_cost = 5\n",
    "# defining lists\n",
    "cities = ['Salvador', 'Fortaleza', 'Natal', 'Aracaju']\n",
    "distances = [850, 800, 300, 550]\n",
    "sights_meals_expenses = [200, 400, 250, 300]\n",
    "\n",
    "# functions for expense calculations\n",
    "def hotel_expenses(days):\n",
    "    costs = hotel_rate * days\n",
    "    return costs\n",
    "\n",
    "def gas_expenses(city_index, is_roundtrip):\n",
    "    total_distance = distances[city_index]\n",
    "    costs = (total_distance / fuel_rate) * fuel_cost\n",
    "    \n",
    "    if is_roundtrip:\n",
    "        return costs * 2\n",
    "\n",
    "    return costs\n",
    "\n",
    "def sightseeing_expenses(city_index, days):\n",
    "    costs = sights_meals_expenses[city_index] * days\n",
    "    return costs\n",
    "\n",
    "# Simulating a 3-day trip to Salvador, being a round trip\n",
    "days = int(input(\"How many days? \"))\n",
    "city = input(\"Which city? [Type: Salvador, Fortaleza, Natal, or Aracaju]: \")\n",
    "\n",
    "hotel_cost = hotel_expenses(days)\n",
    "gas_cost = gas_expenses(cities.index(city), True)\n",
    "sightseeing_cost = sightseeing_expenses(cities.index(city), days)\n",
    "\n",
    "total_cost = hotel_cost + gas_cost + sightseeing_cost\n",
    "\n",
    "print(f'Based on the defined expenses, a {days}-day trip to {city} departing from Recife would cost {total_cost:.2f} Reais.')"
   ]
  },
  {
   "cell_type": "markdown",
   "metadata": {},
   "source": [
    "### 📝 Exercise 10\n",
    "\n",
    "You started an internship at a company that works with natural language processing (NLP). Your team leader requested that you create a code snippet that receives a sentence typed by the user and filters only the words with a length greater than or equal to 5, displaying them in a list. This task is aimed at analyzing patterns in people's behavior when writing words longer than this character count.\n",
    "\n",
    "> Hint: Use lambda functions and `filter()` to filter these words. Remember that the built-in `filter()` function takes a function (in our example, a lambda function) and filters an iterable based on that function. To process the sentence, use `replace()` to replace ',', '.', '!', and '?' with spaces.\n",
    "\n",
    "Use the following sentence to test the code:\n",
    "\n",
    "`Learning Python here at Alura is very good!`\n"
   ]
  },
  {
   "cell_type": "code",
   "execution_count": 60,
   "metadata": {},
   "outputs": [
    {
     "name": "stdout",
     "output_type": "stream",
     "text": [
      "['Learning', 'Python', 'Alura']\n"
     ]
    }
   ],
   "source": [
    "user_sentence = input('Type the sentence: ')\n",
    "\n",
    "sentence_with_no_punctuation = user_sentence.replace(', ', ' ').replace('.', ' ').replace('!', ' ').replace('?', '')\n",
    "words_from_sentence = sentence_with_no_punctuation.split(' ')\n",
    "\n",
    "words_list = filter(lambda word: len(word) >= 5, words_from_sentence)\n",
    "print(list(words_list))"
   ]
  }
 ],
 "metadata": {
  "kernelspec": {
   "display_name": "Python 3",
   "language": "python",
   "name": "python3"
  },
  "language_info": {
   "codemirror_mode": {
    "name": "ipython",
    "version": 3
   },
   "file_extension": ".py",
   "mimetype": "text/x-python",
   "name": "python",
   "nbconvert_exporter": "python",
   "pygments_lexer": "ipython3",
   "version": "3.13.1"
  }
 },
 "nbformat": 4,
 "nbformat_minor": 2
}
