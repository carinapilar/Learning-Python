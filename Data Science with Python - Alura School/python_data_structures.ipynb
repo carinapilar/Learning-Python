{
 "cells": [
  {
   "cell_type": "markdown",
   "metadata": {},
   "source": [
    "### 📝 Exercise 1\n",
    "\n",
    "Create a code to print the sum of the elements of each list contained in the following list:\n",
    "\n",
    "`list_of_lists = [[4,6,5,9], [1,0,7,2], [3,4,1,8]]`"
   ]
  },
  {
   "cell_type": "code",
   "execution_count": 116,
   "metadata": {},
   "outputs": [
    {
     "name": "stdout",
     "output_type": "stream",
     "text": [
      "Sum of Each Element:\n",
      "[24, 10, 16]\n"
     ]
    }
   ],
   "source": [
    "list_of_lists = [[4,6,5,9], [1,0,7,2], [3,4,1,8]]\n",
    "sum_of_elements = [sum(single_list) for single_list in list_of_lists]\n",
    "print('Sum of Each Element:\\n' + str(sum_of_elements))"
   ]
  },
  {
   "cell_type": "markdown",
   "metadata": {},
   "source": [
    "### 📝 Exercise 2\n",
    "\n",
    "Create a code to generate a list that stores the third element of each tuple contained in the following list of tuples:\n",
    "\n",
    "`tuple_list = [('Pedro', 1.74, 81), ('Júlia', 1.65, 67), ('Otávio', 1.81, 83)]`\n"
   ]
  },
  {
   "cell_type": "code",
   "execution_count": 117,
   "metadata": {},
   "outputs": [
    {
     "name": "stdout",
     "output_type": "stream",
     "text": [
      "Third Element from Tuples:\n",
      "[81, 67, 83]\n"
     ]
    }
   ],
   "source": [
    "tuple_list = [('Pedro', 1.74, 81), ('Júlia', 1.65, 67), ('Otávio', 1.81, 83)]\n",
    "third_element = [item[2] for item in tuple_list]\n",
    "print('Third Element from Tuples:\\n' + str(third_element))"
   ]
  },
  {
   "cell_type": "markdown",
   "metadata": {},
   "source": [
    "### 📝 Exercise 3\n",
    "\n",
    "From the list:\n",
    "\n",
    "`list_of_names = ['Pedro', 'Júlia', 'Otávio', 'Eduardo']`\n",
    "\n",
    "Create a code to generate a list of tuples where each tuple has the first element as the position of the name in the original list and the second element as the name itself."
   ]
  },
  {
   "cell_type": "code",
   "execution_count": 132,
   "metadata": {},
   "outputs": [
    {
     "name": "stdout",
     "output_type": "stream",
     "text": [
      "Name and Position:\n",
      "[(0, 'Pedro'), (1, 'Júlia'), (2, 'Otávio'), (3, 'Eduardo')]\n"
     ]
    }
   ],
   "source": [
    "list_of_names = ['Pedro', 'Júlia', 'Otávio', 'Eduardo']\n",
    "names_position_list = [(i, list_of_names[i]) for i in range(0, len(list_of_names))]\n",
    "print('Name and Position:\\n' + str(names_position_list))"
   ]
  },
  {
   "cell_type": "markdown",
   "metadata": {},
   "source": [
    "### 📝 Exercise 4\n",
    "\n",
    "Create a list using list comprehension that stores only the numeric value of each tuple if the first element is `Apartment`, based on the following list of tuples:\n",
    "\n",
    "`rent = [('Apartment', 1700), ('Apartment', 1400), ('House', 2150), ('Apartment', 1900), ('House', 1100)]`"
   ]
  },
  {
   "cell_type": "code",
   "execution_count": 133,
   "metadata": {},
   "outputs": [
    {
     "name": "stdout",
     "output_type": "stream",
     "text": [
      "Apartment Rental Costs:\n",
      "[1700, 1400, 1900]\n"
     ]
    }
   ],
   "source": [
    "rent = [('Apartment', 1700), ('Apartment', 1400), ('House', 2150), ('Apartment', 1900), ('House', 1100)]\n",
    "apartment_rentals = [tuple[1] for tuple in rent if tuple[0] == 'Apartment']\n",
    "print('Apartment Rental Costs:\\n' + str(apartment_rentals))"
   ]
  },
  {
   "cell_type": "markdown",
   "metadata": {},
   "source": [
    "### 📝 Exercise 5\n",
    "\n",
    "Create a dictionary using dict comprehension where the keys are in the list below:\n",
    "\n",
    "`months = ['Jan', 'Feb', 'Mar', 'Apr', 'May', 'Jun', 'Jul', 'Aug', 'Sep', 'Oct', 'Nov', 'Dec']`\n",
    "\n",
    "And the values on this list:\n",
    "\n",
    "`expenses = [860, 490, 1010, 780, 900, 630, 590, 770, 620, 560, 840, 360]`"
   ]
  },
  {
   "cell_type": "code",
   "execution_count": 120,
   "metadata": {},
   "outputs": [
    {
     "name": "stdout",
     "output_type": "stream",
     "text": [
      "Monthly Expenses:\n",
      "{'Jan': 860, 'Feb': 490, 'Mar': 1010, 'Apr': 780, 'May': 900, 'Jun': 630, 'Jul': 590, 'Aug': 770, 'Sep': 620, 'Oct': 560, 'Nov': 840, 'Dec': 360}\n"
     ]
    }
   ],
   "source": [
    "months = ['Jan', 'Feb', 'Mar', 'Apr', 'May', 'Jun', 'Jul', 'Aug', 'Sep', 'Oct', 'Nov', 'Dec']\n",
    "expenses = [860, 490, 1010, 780, 900, 630, 590, 770, 620, 560, 840, 360]\n",
    "monthly_expenses = {months[i]: expenses[i] for i in range(len(months))}\n",
    "print('Monthly Expenses:\\n' + str(monthly_expenses))"
   ]
  },
  {
   "cell_type": "markdown",
   "metadata": {},
   "source": [
    "### 📝 Exercise 6\n",
    "\n",
    "A store has a database with sales information for each representative and each year, and needs to filter only the data for the year 2022 with sales greater than 6000. The store provided a sample containing only the columns with the years and sales values for you to help filter the data using code:\n",
    "\n",
    "`sales = [('2023', 4093), ('2021', 4320), ('2021', 5959), ('2022', 8883), ('2023', 9859), ('2022', 5141), ('2022', 7688), ('2022', 9544), ('2023', 4794), ('2021', 7178), ('2022', 3030), ('2021', 7471), ('2022', 4226), ('2022', 8190), ('2021', 9680), ('2022', 5616)]`\n",
    "\n",
    "Create a list using list comprehension to filter the values for 2022 and those greater than 6000."
   ]
  },
  {
   "cell_type": "code",
   "execution_count": 121,
   "metadata": {},
   "outputs": [
    {
     "name": "stdout",
     "output_type": "stream",
     "text": [
      "Sales Greater than 6,000 in 2022:\n",
      "[8883, 7688, 9544, 8190]\n"
     ]
    }
   ],
   "source": [
    "sales = [('2023', 4093), ('2021', 4320), ('2021', 5959), ('2022', 8883), ('2023', 9859), ('2022', 5141), ('2022', 7688), ('2022', 9544), ('2023', 4794), ('2021', 7178), ('2022', 3030), ('2021', 7471), ('2022', 4226), ('2022', 8190), ('2021', 9680), ('2022', 5616)]\n",
    "filtered_sales = [tuple[1] for tuple in sales if tuple[0] == '2022' and tuple[1] > 6000]\n",
    "print('Sales Greater than 6,000 in 2022:\\n' + str(filtered_sales))"
   ]
  },
  {
   "cell_type": "markdown",
   "metadata": {},
   "source": [
    "### 📝 Exercise 7\n",
    "\n",
    "A clinic analyzes patient data and stores the numeric value of glucose in a database, and would like to label the data as follows:\n",
    "\n",
    "- Glucose less than or equal to 70: 'Hypoglycemia'\n",
    "- Glucose between 70 and 99: 'Normal'\n",
    "- Glucose between 100 and 125: 'Altered'\n",
    "- Glucose greater than 125: 'Diabetes'\n",
    "\n",
    "The clinic provided part of the values, the list below, and your task is to create a list of tuples using list comprehension, containing the label and the glucose value in each tuple.\n",
    "\n",
    "`glucose = [129, 82, 60, 97, 101, 65, 62, 167, 87, 53, 58, 92, 66, 120, 109, 62, 86, 96, 103, 88, 155, 52, 89, 73]`"
   ]
  },
  {
   "cell_type": "code",
   "execution_count": 122,
   "metadata": {},
   "outputs": [
    {
     "name": "stdout",
     "output_type": "stream",
     "text": [
      "Glucose Results:\n",
      "[('Diabetes', 129), ('Normal', 82), ('Hypoglycemia', 60), ('Normal', 97), ('Altered', 101), ('Hypoglycemia', 65), ('Hypoglycemia', 62), ('Diabetes', 167), ('Normal', 87), ('Hypoglycemia', 53), ('Hypoglycemia', 58), ('Normal', 92), ('Hypoglycemia', 66), ('Altered', 120), ('Altered', 109), ('Hypoglycemia', 62), ('Normal', 86), ('Normal', 96), ('Altered', 103), ('Normal', 88), ('Diabetes', 155), ('Hypoglycemia', 52), ('Normal', 89), ('Normal', 73)]\n"
     ]
    }
   ],
   "source": [
    "glucose = [129, 82, 60, 97, 101, 65, 62, 167, 87, 53, 58, 92, 66, 120, 109, 62, 86, 96, 103, 88, 155, 52, 89, 73]\n",
    "\n",
    "def glucose_label(glucose_index: int):\n",
    "    if glucose_index <= 70:\n",
    "        return 'Hypoglycemia'\n",
    "    elif glucose_index <= 99:\n",
    "        return 'Normal'\n",
    "    elif glucose_index <= 125:\n",
    "        return 'Altered'\n",
    "    else:\n",
    "        return 'Diabetes'\n",
    "    \n",
    "glucose_results = [(glucose_label(glucose[i]), glucose[i]) for i in range(len(glucose))]\n",
    "\n",
    "print('Glucose Results:\\n' + str(glucose_results))"
   ]
  },
  {
   "cell_type": "markdown",
   "metadata": {},
   "source": [
    "### 📝 Exercise 8\n",
    "\n",
    "An e-commerce has information about the sale ID, quantity sold, and product price divided into the following lists:\n",
    "\n",
    "    id = [0, 1, 2, 3, 4, 5, 6, 7, 8, 9]\n",
    "    quantity = [15, 12, 1, 15, 2, 11, 2, 12, 2, 4]\n",
    "    price = [93.0, 102.0, 18.0, 41.0, 122.0, 14.0, 71.0, 48.0, 14.0, 144.0]\n",
    "\n",
    "The e-commerce needs to structure this data into a table containing the total sale value, which is obtained by multiplying the quantity by the unit price. Additionally, the table needs to contain a header indicating the columns: `id`, `quantity`, `price`, and `total`.\n",
    "\n",
    "Create a list of tuples where each tuple has the id, quantity, price, and total value, with the first tuple being the table header."
   ]
  },
  {
   "cell_type": "code",
   "execution_count": 123,
   "metadata": {},
   "outputs": [
    {
     "name": "stdout",
     "output_type": "stream",
     "text": [
      "Total Sales Table:\n",
      "[('ID', 'Quantity', 'Price', 'Total'), [(0, 15, 93.0, 1395.0), (1, 12, 102.0, 1224.0), (2, 1, 18.0, 18.0), (3, 15, 41.0, 615.0), (4, 2, 122.0, 244.0), (5, 11, 14.0, 154.0), (6, 2, 71.0, 142.0), (7, 12, 48.0, 576.0), (8, 2, 14.0, 28.0), (9, 4, 144.0, 576.0)]]\n"
     ]
    }
   ],
   "source": [
    "id = [0, 1, 2, 3, 4, 5, 6, 7, 8, 9]\n",
    "quantity = [15, 12, 1, 15, 2, 11, 2, 12, 2, 4]\n",
    "price = [93.0, 102.0, 18.0, 41.0, 122.0, 14.0, 71.0, 48.0, 14.0, 144.0]\n",
    "\n",
    "total_sales = [('ID', 'Quantity', 'Price', 'Total')]\n",
    "total_sales.append([(id[i], quantity[i], price[i], quantity[i] * price[i]) for i in range(len(id))])\n",
    "print('Total Sales Table:\\n' + str(total_sales))"
   ]
  },
  {
   "cell_type": "markdown",
   "metadata": {},
   "source": [
    "### 📝 Exercise 9\n",
    "\n",
    "A company has branches spread across the states in the Southeastern region of Brazil. In one of the branch registration tables, there is a column containing the information about which state it belongs to:\n",
    "\n",
    "`states = ['SP', 'ES', 'MG', 'MG', 'SP', 'MG', 'ES', 'ES', 'ES', 'SP', 'SP', 'MG', 'ES', 'SP', 'RJ', 'MG', 'RJ', 'SP', 'MG', 'SP', 'ES', 'SP', 'MG']`\n",
    "\n",
    "The company is always opening new branches, so the table is constantly receiving new records, and the manager would like to have updated information about the number of branches in each state.\n",
    "\n",
    "From the column with the state information, create a dictionary using dict comprehension with the state name as the key and the count of times the state appears in the list as the value.\n",
    "\n",
    "> Tip: You can perform an intermediate step to generate a list of lists where each list contains the name of only one state with repeated values."
   ]
  },
  {
   "cell_type": "code",
   "execution_count": 124,
   "metadata": {},
   "outputs": [
    {
     "name": "stdout",
     "output_type": "stream",
     "text": [
      "Quantity of Branches by State:\n",
      "{'SP': 8, 'ES': 6, 'MG': 7, 'RJ': 2}\n"
     ]
    }
   ],
   "source": [
    "states = ['SP', 'ES', 'MG', 'MG', 'SP', 'MG', 'ES', 'ES', 'ES', 'SP', 'SP', 'MG', 'ES', 'SP', 'RJ', 'MG', 'RJ', 'SP', 'MG', 'SP', 'ES', 'SP', 'MG']\n",
    "\n",
    "filtered_states = []\n",
    "qty_states = []\n",
    "for i in range(len(states)):\n",
    "    if states[i] in filtered_states:\n",
    "        index = filtered_states.index(states[i])\n",
    "        qty_states[index] = qty_states[index] + 1\n",
    "    else:\n",
    "        filtered_states.append(states[i])\n",
    "        qty_states.append(1)\n",
    "\n",
    "branch_qty_states = {filtered_states[i]: qty_states[i] for i in range(len(filtered_states))}\n",
    "\n",
    "print('Quantity of Branches by State:\\n' + str(branch_qty_states))"
   ]
  },
  {
   "cell_type": "markdown",
   "metadata": {},
   "source": [
    "### 📝 Exercise 10\n",
    "\n",
    "In the same branch registration table, there is a column with information about the number of employees, and the manager would like to have a grouping of the sum of employees for each state. The information contained in the table is:\n",
    "\n",
    "`employees = [('SP', 16), ('ES', 8), ('MG', 9), ('MG', 6), ('SP', 10), ('MG', 4), ('ES',9), ('ES', 7), ('ES', 12), ('SP', 7), ('SP', 11), ('MG',8), ('ES',8), ('SP',9), ('RJ', 13), ('MG', 5), ('RJ', 9), ('SP', 12), ('MG', 10), ('SP', 7), ('ES', 14), ('SP', 10), ('MG', 12)]`\n",
    "\n",
    "From the list of tuples, create a dictionary where the keys are the unique state names, and the values are the lists of the number of employees for each state. Also, create a dictionary where the keys are the state names, and the values are the sum of employees by state.\n",
    "\n",
    "> Tip: You can perform an intermediate step to generate a list of lists where each list contains only the numeric values of employees for each state.\n"
   ]
  },
  {
   "cell_type": "code",
   "execution_count": 137,
   "metadata": {},
   "outputs": [
    {
     "name": "stdout",
     "output_type": "stream",
     "text": [
      "Employees by State: {'SP': [16, 10, 7, 11, 9, 12, 7, 10], 'ES': [8, 9, 7, 12, 8, 14], 'MG': [9, 6, 4, 8, 5, 10, 12], 'RJ': [13, 9]}\n",
      "Quantity of Employees by State: {'SP': 82, 'ES': 58, 'MG': 54, 'RJ': 22}\n"
     ]
    }
   ],
   "source": [
    "employees = [('SP', 16), ('ES', 8), ('MG', 9), ('MG', 6), ('SP', 10), ('MG', 4), ('ES',9), ('ES', 7), ('ES', 12), ('SP', 7), ('SP', 11), ('MG',8),('ES',8),\n",
    "             ('SP',9), ('RJ', 13), ('MG', 5), ('RJ', 9), ('SP', 12), ('MG', 10), ('SP', 7), ('ES', 14), ('SP', 10), ('MG', 12)]\n",
    "\n",
    "filtered_states = []\n",
    "qty_employees = []\n",
    "\n",
    "for tuple in employees:\n",
    "    if tuple[0] in filtered_states:\n",
    "        index = filtered_states.index(tuple[0])\n",
    "        qty_employees[index].append(tuple[1])\n",
    "    else:\n",
    "        filtered_states.append(tuple[0])\n",
    "        qty_employees.append([tuple[1]])\n",
    "\n",
    "employees_by_state = {filtered_states[i]: qty_employees[i] for i in range(len(filtered_states))}\n",
    "qty_employees_by_state = {filtered_states[i]: sum(qty_employees[i]) for i in range(len(filtered_states))}\n",
    "\n",
    "print('Employees by State: ' + str(employees_by_state))\n",
    "print('Quantity of Employees by State: ' + str(qty_employees_by_state))"
   ]
  }
 ],
 "metadata": {
  "kernelspec": {
   "display_name": "Python 3",
   "language": "python",
   "name": "python3"
  },
  "language_info": {
   "codemirror_mode": {
    "name": "ipython",
    "version": 3
   },
   "file_extension": ".py",
   "mimetype": "text/x-python",
   "name": "python",
   "nbconvert_exporter": "python",
   "pygments_lexer": "ipython3",
   "version": "3.13.1"
  }
 },
 "nbformat": 4,
 "nbformat_minor": 2
}
